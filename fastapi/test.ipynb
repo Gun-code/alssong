{
 "cells": [
  {
   "cell_type": "markdown",
   "metadata": {},
   "source": [
    "### Image to voice"
   ]
  },
  {
   "cell_type": "code",
   "execution_count": null,
   "metadata": {},
   "outputs": [],
   "source": [
    "from gtts import gTTS\n",
    "import os\n",
    "\n",
    "text1 = \"hello, i'm test program, 안녕 나는 테스트 프로그램이야\"\n",
    "\n",
    "tts1 = gTTS(text = text1, lang='en')\n",
    "# tts2 = gTTS(text = text, lang='ko')\n",
    "\n",
    "tts1.save(\"output1.mp3\")\n",
    "# tts2.save(\"output2.mp3\")\n",
    "\n",
    "os.system(\"start output1.mp3\")\n",
    "# os.system(\"start output2.mp3\")"
   ]
  },
  {
   "cell_type": "markdown",
   "metadata": {},
   "source": [
    "### Mel Spectrogram"
   ]
  },
  {
   "cell_type": "code",
   "execution_count": null,
   "metadata": {},
   "outputs": [],
   "source": [
    "import librosa\n",
    "import numpy as np\n",
    "\n",
    "# 음성 파일 로드\n",
    "def load_audio(file_path):\n",
    "    y, sr = librosa.load(file_path, sr=None)\n",
    "    return y, sr\n",
    "\n",
    "# 멜 스펙트로그램 생성\n",
    "def compute_mel_spectrogram(y, sr):\n",
    "    mel_spectrogram = librosa.feature.melspectrogram(y=y, sr=sr)\n",
    "    return mel_spectrogram\n",
    "\n",
    "# 유클리드 거리 계산\n",
    "def euclidean_distance(spectrogram1, spectrogram2):\n",
    "    # 스펙트로그램을 1차원으로 변환 후 유클리드 거리 계산\n",
    "    dist = np.linalg.norm(spectrogram1 - spectrogram2)\n",
    "    return dist\n",
    "\n",
    "# 파일 경로 설정\n",
    "file1 = 'output.mp3'  # 첫 번째 음성 파일\n",
    "file2 = 'output1.mp3'  # 두 번째 음성 파일\n",
    "\n",
    "# 음성 파일 로드\n",
    "y1, sr1 = load_audio(file1)\n",
    "y2, sr2 = load_audio(file2)\n",
    "\n",
    "# 멜 스펙트로그램 생성\n",
    "mel_spectrogram1 = compute_mel_spectrogram(y1, sr1)\n",
    "mel_spectrogram2 = compute_mel_spectrogram(y2, sr2)\n",
    "\n",
    "# 유클리드 거리 계산\n",
    "distance = euclidean_distance(mel_spectrogram1, mel_spectrogram2)\n",
    "\n",
    "print(f'두 음성의 유클리드 거리: {distance}')"
   ]
  }
 ],
 "metadata": {
  "kernelspec": {
   "display_name": "langchain_env",
   "language": "python",
   "name": "python3"
  },
  "language_info": {
   "name": "python",
   "version": "3.12.8"
  }
 },
 "nbformat": 4,
 "nbformat_minor": 2
}
